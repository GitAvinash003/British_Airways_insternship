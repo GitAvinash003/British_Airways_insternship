{
 "cells": [
  {
   "cell_type": "code",
   "execution_count": 16,
   "metadata": {},
   "outputs": [],
   "source": [
    "import requests \n",
    "from bs4 import BeautifulSoup\n",
    "import pandas as pd\n"
   ]
  },
  {
   "cell_type": "code",
   "execution_count": 2,
   "metadata": {},
   "outputs": [],
   "source": [
    "#url defines\n",
    "base_url = \"https://www.airlinequality.com/airline-reviews/british-airways\""
   ]
  },
  {
   "cell_type": "code",
   "execution_count": 3,
   "metadata": {},
   "outputs": [],
   "source": [
    "reviews = [] #colecting reviews data \n",
    "stars = []   #colecting stars data\n",
    "reviews = []  #colecting reviews data\n",
    "country = []  #colecting country data\n",
    "created_at =[] #colecting date data"
   ]
  },
  {
   "cell_type": "code",
   "execution_count": 11,
   "metadata": {},
   "outputs": [
    {
     "name": "stdout",
     "output_type": "stream",
     "text": [
      "   ---> 100 total reviews\n",
      "   ---> 101 total stars\n",
      "   ---> 100 total date\n",
      "   ---> 100 total country\n",
      "   ---> 200 total reviews\n",
      "   ---> 202 total stars\n",
      "   ---> 200 total date\n",
      "   ---> 200 total country\n",
      "   ---> 300 total reviews\n",
      "   ---> 303 total stars\n",
      "   ---> 300 total date\n",
      "   ---> 300 total country\n",
      "   ---> 400 total reviews\n",
      "   ---> 404 total stars\n",
      "   ---> 400 total date\n",
      "   ---> 400 total country\n",
      "   ---> 500 total reviews\n",
      "   ---> 505 total stars\n",
      "   ---> 500 total date\n",
      "   ---> 500 total country\n",
      "   ---> 600 total reviews\n",
      "   ---> 606 total stars\n",
      "   ---> 600 total date\n",
      "   ---> 600 total country\n",
      "   ---> 700 total reviews\n",
      "   ---> 707 total stars\n",
      "   ---> 700 total date\n",
      "   ---> 700 total country\n",
      "   ---> 800 total reviews\n",
      "   ---> 808 total stars\n",
      "   ---> 800 total date\n",
      "   ---> 800 total country\n",
      "   ---> 900 total reviews\n",
      "   ---> 909 total stars\n",
      "   ---> 900 total date\n",
      "   ---> 900 total country\n",
      "   ---> 1000 total reviews\n",
      "   ---> 1010 total stars\n",
      "   ---> 1000 total date\n",
      "   ---> 1000 total country\n"
     ]
    }
   ],
   "source": [
    " #Iterating over website pages to find required attributes\n",
    "pages = 10\n",
    "page_size = 100\n",
    "\n",
    "\n",
    "base_url = \"https://www.airlinequality.com/airline-reviews/british-airways\"\n",
    "pages = 10\n",
    "page_size = 100\n",
    "\n",
    "reviews = []\n",
    "stars = []\n",
    "reviews = []\n",
    "country = []\n",
    "created_at =[]\n",
    "\n",
    "for i in range(1, pages+1):\n",
    "    page = requests.get(f\"{base_url}/page/{i}/?sortby=post_date%3ADesc&pagesize=100\")\n",
    "    \n",
    "    soup = BeautifulSoup(page.content, \"html.parser\")\n",
    "    \n",
    "    for item in soup.find_all(\"div\", class_=\"text_content\"):\n",
    "        reviews.append(item.text)\n",
    "    \n",
    "    for item in soup.find_all(\"div\", class_ = \"rating-10\"):\n",
    "        try:\n",
    "            stars.append(item.span.text)\n",
    "        except:\n",
    "            print(f\"Error on page {i}\")\n",
    "            stars.append(\"None\")\n",
    "            \n",
    "    #date\n",
    "    for item in soup.find_all(\"time\"):\n",
    "        created_at.append(item.text)\n",
    "        \n",
    "    #country\n",
    "    for item in soup.find_all(\"h3\"):\n",
    "        country.append(item.span.next_sibling.text.strip(\" ()\"))\n",
    "    print(f\"   ---> {len(reviews)} total reviews\")\n",
    "    print(f\"   ---> {len(stars)} total stars\")\n",
    "    print(f\"   ---> {len(created_at)} total date\")\n",
    "    print(f\"   ---> {len(country)} total country\")\n"
   ]
  },
  {
   "cell_type": "code",
   "execution_count": 12,
   "metadata": {},
   "outputs": [
    {
     "data": {
      "text/plain": [
       "1000"
      ]
     },
     "execution_count": 12,
     "metadata": {},
     "output_type": "execute_result"
    }
   ],
   "source": [
    "#check data length\n",
    "len(reviews)"
   ]
  },
  {
   "cell_type": "code",
   "execution_count": 14,
   "metadata": {},
   "outputs": [],
   "source": [
    "stars =stars[:1000]"
   ]
  },
  {
   "cell_type": "code",
   "execution_count": 15,
   "metadata": {},
   "outputs": [
    {
     "data": {
      "text/plain": [
       "1000"
      ]
     },
     "execution_count": 15,
     "metadata": {},
     "output_type": "execute_result"
    }
   ],
   "source": [
    "len(stars)"
   ]
  },
  {
   "cell_type": "code",
   "execution_count": 18,
   "metadata": {},
   "outputs": [],
   "source": [
    "#creating data frames using pandas library\n",
    "df = pd.DataFrame({\"reviews\":reviews,\"stars\": stars, \"created_at\":created_at, \"country\": country})"
   ]
  },
  {
   "cell_type": "code",
   "execution_count": 19,
   "metadata": {},
   "outputs": [
    {
     "data": {
      "text/html": [
       "<div>\n",
       "<style scoped>\n",
       "    .dataframe tbody tr th:only-of-type {\n",
       "        vertical-align: middle;\n",
       "    }\n",
       "\n",
       "    .dataframe tbody tr th {\n",
       "        vertical-align: top;\n",
       "    }\n",
       "\n",
       "    .dataframe thead th {\n",
       "        text-align: right;\n",
       "    }\n",
       "</style>\n",
       "<table border=\"1\" class=\"dataframe\">\n",
       "  <thead>\n",
       "    <tr style=\"text-align: right;\">\n",
       "      <th></th>\n",
       "      <th>reviews</th>\n",
       "      <th>stars</th>\n",
       "      <th>created_at</th>\n",
       "      <th>country</th>\n",
       "    </tr>\n",
       "  </thead>\n",
       "  <tbody>\n",
       "    <tr>\n",
       "      <th>0</th>\n",
       "      <td>Not Verified | Although all four flights were ...</td>\n",
       "      <td>\\n\\t\\t\\t\\t\\t\\t\\t\\t\\t\\t\\t\\t5</td>\n",
       "      <td>26th August 2024</td>\n",
       "      <td>United Kingdom</td>\n",
       "    </tr>\n",
       "    <tr>\n",
       "      <th>1</th>\n",
       "      <td>✅ Trip Verified |   Flight changed just one da...</td>\n",
       "      <td>9</td>\n",
       "      <td>26th August 2024</td>\n",
       "      <td>United Kingdom</td>\n",
       "    </tr>\n",
       "    <tr>\n",
       "      <th>2</th>\n",
       "      <td>Not Verified | Delayed flight 1 hour. Arbitrar...</td>\n",
       "      <td>1</td>\n",
       "      <td>25th August 2024</td>\n",
       "      <td>United Kingdom</td>\n",
       "    </tr>\n",
       "    <tr>\n",
       "      <th>3</th>\n",
       "      <td>Not Verified | Flown with BA four times. As an...</td>\n",
       "      <td>2</td>\n",
       "      <td>25th August 2024</td>\n",
       "      <td>United Kingdom</td>\n",
       "    </tr>\n",
       "    <tr>\n",
       "      <th>4</th>\n",
       "      <td>✅ Trip Verified |   You may never see your ref...</td>\n",
       "      <td>10</td>\n",
       "      <td>22nd August 2024</td>\n",
       "      <td>United States</td>\n",
       "    </tr>\n",
       "  </tbody>\n",
       "</table>\n",
       "</div>"
      ],
      "text/plain": [
       "                                             reviews  \\\n",
       "0  Not Verified | Although all four flights were ...   \n",
       "1  ✅ Trip Verified |   Flight changed just one da...   \n",
       "2  Not Verified | Delayed flight 1 hour. Arbitrar...   \n",
       "3  Not Verified | Flown with BA four times. As an...   \n",
       "4  ✅ Trip Verified |   You may never see your ref...   \n",
       "\n",
       "                         stars        created_at         country  \n",
       "0  \\n\\t\\t\\t\\t\\t\\t\\t\\t\\t\\t\\t\\t5  26th August 2024  United Kingdom  \n",
       "1                            9  26th August 2024  United Kingdom  \n",
       "2                            1  25th August 2024  United Kingdom  \n",
       "3                            2  25th August 2024  United Kingdom  \n",
       "4                           10  22nd August 2024   United States  "
      ]
     },
     "execution_count": 19,
     "metadata": {},
     "output_type": "execute_result"
    }
   ],
   "source": [
    "#check dataframe\n",
    "df.head()"
   ]
  },
  {
   "cell_type": "code",
   "execution_count": 20,
   "metadata": {},
   "outputs": [
    {
     "data": {
      "text/html": [
       "<div>\n",
       "<style scoped>\n",
       "    .dataframe tbody tr th:only-of-type {\n",
       "        vertical-align: middle;\n",
       "    }\n",
       "\n",
       "    .dataframe tbody tr th {\n",
       "        vertical-align: top;\n",
       "    }\n",
       "\n",
       "    .dataframe thead th {\n",
       "        text-align: right;\n",
       "    }\n",
       "</style>\n",
       "<table border=\"1\" class=\"dataframe\">\n",
       "  <thead>\n",
       "    <tr style=\"text-align: right;\">\n",
       "      <th></th>\n",
       "      <th>reviews</th>\n",
       "      <th>stars</th>\n",
       "      <th>created_at</th>\n",
       "      <th>country</th>\n",
       "    </tr>\n",
       "  </thead>\n",
       "  <tbody>\n",
       "    <tr>\n",
       "      <th>995</th>\n",
       "      <td>✅ Trip Verified |  London Heathrow to Larnaca....</td>\n",
       "      <td>3</td>\n",
       "      <td>27th June 2019</td>\n",
       "      <td>United Kingdom</td>\n",
       "    </tr>\n",
       "    <tr>\n",
       "      <th>996</th>\n",
       "      <td>✅ Trip Verified |  BA 2616 and 2617 return tri...</td>\n",
       "      <td>9</td>\n",
       "      <td>26th June 2019</td>\n",
       "      <td>United Kingdom</td>\n",
       "    </tr>\n",
       "    <tr>\n",
       "      <th>997</th>\n",
       "      <td>✅ Trip Verified |  Heathrow to Kalamata. Heath...</td>\n",
       "      <td>2</td>\n",
       "      <td>26th June 2019</td>\n",
       "      <td>United Kingdom</td>\n",
       "    </tr>\n",
       "    <tr>\n",
       "      <th>998</th>\n",
       "      <td>✅ Trip Verified |  London to Gothenburg. Uniqu...</td>\n",
       "      <td>10</td>\n",
       "      <td>24th June 2019</td>\n",
       "      <td>United Kingdom</td>\n",
       "    </tr>\n",
       "    <tr>\n",
       "      <th>999</th>\n",
       "      <td>✅ Trip Verified |  Amsterdam to London on 15th...</td>\n",
       "      <td>1</td>\n",
       "      <td>24th June 2019</td>\n",
       "      <td>Australia</td>\n",
       "    </tr>\n",
       "  </tbody>\n",
       "</table>\n",
       "</div>"
      ],
      "text/plain": [
       "                                               reviews stars      created_at  \\\n",
       "995  ✅ Trip Verified |  London Heathrow to Larnaca....     3  27th June 2019   \n",
       "996  ✅ Trip Verified |  BA 2616 and 2617 return tri...     9  26th June 2019   \n",
       "997  ✅ Trip Verified |  Heathrow to Kalamata. Heath...     2  26th June 2019   \n",
       "998  ✅ Trip Verified |  London to Gothenburg. Uniqu...    10  24th June 2019   \n",
       "999  ✅ Trip Verified |  Amsterdam to London on 15th...     1  24th June 2019   \n",
       "\n",
       "            country  \n",
       "995  United Kingdom  \n",
       "996  United Kingdom  \n",
       "997  United Kingdom  \n",
       "998  United Kingdom  \n",
       "999       Australia  "
      ]
     },
     "execution_count": 20,
     "metadata": {},
     "output_type": "execute_result"
    }
   ],
   "source": [
    "df.tail()"
   ]
  },
  {
   "cell_type": "code",
   "execution_count": 21,
   "metadata": {},
   "outputs": [],
   "source": [
    "#creating a csv file for analysis\n",
    "df.to_csv(\"British_Airway_Analysis.csv\")"
   ]
  },
  {
   "cell_type": "code",
   "execution_count": 22,
   "metadata": {},
   "outputs": [
    {
     "data": {
      "text/plain": [
       "(1000, 4)"
      ]
     },
     "execution_count": 22,
     "metadata": {},
     "output_type": "execute_result"
    }
   ],
   "source": [
    "df.shape"
   ]
  },
  {
   "cell_type": "code",
   "execution_count": null,
   "metadata": {},
   "outputs": [],
   "source": []
  }
 ],
 "metadata": {
  "kernelspec": {
   "display_name": "Python 3",
   "language": "python",
   "name": "python3"
  },
  "language_info": {
   "codemirror_mode": {
    "name": "ipython",
    "version": 3
   },
   "file_extension": ".py",
   "mimetype": "text/x-python",
   "name": "python",
   "nbconvert_exporter": "python",
   "pygments_lexer": "ipython3",
   "version": "3.12.4"
  }
 },
 "nbformat": 4,
 "nbformat_minor": 2
}
